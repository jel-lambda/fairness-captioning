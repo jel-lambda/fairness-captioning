{
 "cells": [
  {
   "cell_type": "markdown",
   "metadata": {},
   "source": [
    "## Image selecting from json file"
   ]
  },
  {
   "cell_type": "code",
   "execution_count": null,
   "metadata": {},
   "outputs": [],
   "source": [
    "from pycocotools.coco import COCO\n",
    "import requests\n",
    "\n",
    "base = '/home/cvmlserver/Seohyeon/v-coco/'\n",
    "\n",
    "coco = COCO('../data/annotations/raw/captions_val2014.json')\n",
    "\n",
    "imgIds = coco.getImgIds()\n",
    "\n",
    "images = coco.loadImgs(sorted(imgIds))\n",
    "count = 0\n",
    "past_count = 0\n",
    "gender_word = ['person', 'man', 'woman', 'boy', 'girl']\n",
    "\n",
    "for im in images[:]:\n",
    "    annos = coco.loadAnns(coco.getAnnIds(imgIds=im['id']))\n",
    "    download = False\n",
    "    score = 0\n",
    "    for anno in annos:\n",
    "        caption = anno['caption'].lower().split(' ')\n",
    "        if any(word in caption for word in gender_word):\n",
    "            score += 1\n",
    "        else:\n",
    "            break\n",
    "\n",
    "    if score == len(annos):\n",
    "        download = True\n",
    "    \n",
    "    if download:\n",
    "        count += 1\n",
    "        img_data = requests.get(im['coco_url']).content\n",
    "        with open(base+'/data/original/' + im['file_name'], 'wb') as handler:\n",
    "            handler.write(img_data)\n",
    "\n",
    "    if count % 100 == 0 and past_count != count:\n",
    "        past_count = count\n",
    "        print(count, 'images downloaded')\n",
    "    if count == 1000:\n",
    "        break\n",
    "\n",
    "print(count, 'total images downloaded')\n"
   ]
  },
  {
   "cell_type": "markdown",
   "metadata": {},
   "source": [
    "## Caption extracting and writing"
   ]
  },
  {
   "cell_type": "code",
   "execution_count": 5,
   "metadata": {},
   "outputs": [
    {
     "name": "stdout",
     "output_type": "stream",
     "text": [
      "loading annotations into memory...\n",
      "Done (t=0.21s)\n",
      "creating index...\n",
      "index created!\n"
     ]
    }
   ],
   "source": [
    "from pycocotools.coco import COCO\n",
    "import requests\n",
    "import re\n",
    "import os\n",
    "import json\n",
    "\n",
    "# change this path to your coco dataset path\n",
    "coco = COCO('data/annotations/raw/captions_val2014.json')\n",
    "\n",
    "imgIds = coco.getImgIds()\n",
    "\n",
    "images = coco.loadImgs(sorted(imgIds))\n",
    "count = 0\n",
    "\n",
    "image_list = os.listdir('./data_new')\n",
    "\n",
    "dict = {}\n",
    "\n",
    "for name in image_list:\n",
    "    name = name.split('.')[0]\n",
    "    dict[name] = []\n",
    "    for im in images:\n",
    "        if name == im['file_name'].split('.')[0]:\n",
    "            annos = coco.loadAnns(coco.getAnnIds(imgIds=im['id']))\n",
    "            for anno in annos:\n",
    "                dict[name].append(anno['caption'])\n",
    "\n",
    " \n",
    "# Serializing json\n",
    "json_object = json.dumps(dict, indent=4)\n",
    " \n",
    "# Writing to man, boy, girl or woman.json\n",
    "with open(\"./male_cap.json\", \"w\") as outfile:\n",
    "    outfile.write(json_object)\n",
    "\n"
   ]
  },
  {
   "cell_type": "markdown",
   "metadata": {},
   "source": [
    "# Download images from jsonfile"
   ]
  },
  {
   "cell_type": "code",
   "execution_count": null,
   "metadata": {},
   "outputs": [],
   "source": [
    "from pycocotools.coco import COCO\n",
    "import requests\n",
    "import json\n",
    "base = '/home/cvmlserver/Seohyeon/v-coco/'\n",
    "coco = COCO('../data/annotations/raw/captions_val2014.json')\n",
    "\n",
    "with open(os.path.join(base, 'data/annotations/raw/person_image_annotation.json'), 'r') as f:\n",
    "    data = json.load(f)\n",
    "    img_list = list(data.keys())\n",
    "    img_list = [int(img.split('_')[-1].split('.')[0]) for img in img_list]\n",
    "\n",
    "images = coco.loadImgs(sorted(img_list))\n",
    "\n",
    "for im in images:\n",
    "    download = False\n",
    "    score = 0\n",
    "    img_data = requests.get(im['coco_url']).content\n",
    "    with open(base+'/data/original/' + im['file_name'], 'wb') as handler:\n",
    "        handler.write(img_data)\n",
    "\n",
    "print('total images downloaded')\n"
   ]
  },
  {
   "cell_type": "code",
   "execution_count": null,
   "metadata": {},
   "outputs": [],
   "source": []
  }
 ],
 "metadata": {
  "kernelspec": {
   "display_name": "Python 3.10.6 ('11775-hw2')",
   "language": "python",
   "name": "python3"
  },
  "language_info": {
   "codemirror_mode": {
    "name": "ipython",
    "version": 3
   },
   "file_extension": ".py",
   "mimetype": "text/x-python",
   "name": "python",
   "nbconvert_exporter": "python",
   "pygments_lexer": "ipython3",
   "version": "3.10.6"
  },
  "orig_nbformat": 4,
  "vscode": {
   "interpreter": {
    "hash": "09f94152c9560a9262e19909104123c27996423b8d9cefbf1cc31600487b030b"
   }
  }
 },
 "nbformat": 4,
 "nbformat_minor": 2
}
