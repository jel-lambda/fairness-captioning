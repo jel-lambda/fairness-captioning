{
 "cells": [
  {
   "cell_type": "code",
   "execution_count": 11,
   "metadata": {},
   "outputs": [
    {
     "name": "stdout",
     "output_type": "stream",
     "text": [
      "total_num 15000\n"
     ]
    }
   ],
   "source": [
    "import os\n",
    "import cv2\n",
    "bg_folder = \"../data/final\"\n",
    "bg_classes = os.listdir(bg_folder)\n",
    "i = 0\n",
    "for bg_class in bg_classes:\n",
    "    bg_images = os.listdir(os.path.join(bg_folder, bg_class))\n",
    "    for image in bg_images:\n",
    "        if not image.endswith('.png'):\n",
    "            print(\"not image\", image)\n",
    "            pass\n",
    "        bg = cv2.imread(os.path.join(bg_folder, bg_class, image))\n",
    "        if bg is None:\n",
    "            print(\"none\", bg_class, image)\n",
    "            continue\n",
    "        w, h, c = bg.shape\n",
    "        i += 1\n",
    "\n",
    "print(\"total_num\", i)"
   ]
  }
 ],
 "metadata": {
  "kernelspec": {
   "display_name": "11775-hw2",
   "language": "python",
   "name": "python3"
  },
  "language_info": {
   "codemirror_mode": {
    "name": "ipython",
    "version": 3
   },
   "file_extension": ".py",
   "mimetype": "text/x-python",
   "name": "python",
   "nbconvert_exporter": "python",
   "pygments_lexer": "ipython3",
   "version": "3.10.6 | packaged by conda-forge | (main, Aug 22 2022, 20:36:39) [GCC 10.4.0]"
  },
  "orig_nbformat": 4,
  "vscode": {
   "interpreter": {
    "hash": "09f94152c9560a9262e19909104123c27996423b8d9cefbf1cc31600487b030b"
   }
  }
 },
 "nbformat": 4,
 "nbformat_minor": 2
}
