{
 "cells": [
  {
   "cell_type": "code",
   "execution_count": 1,
   "metadata": {},
   "outputs": [
    {
     "name": "stderr",
     "output_type": "stream",
     "text": [
      "/home/f4_u4/.conda/envs/gt/lib/python3.8/site-packages/tqdm/auto.py:22: TqdmWarning: IProgress not found. Please update jupyter and ipywidgets. See https://ipywidgets.readthedocs.io/en/stable/user_install.html\n",
      "  from .autonotebook import tqdm as notebook_tqdm\n"
     ]
    }
   ],
   "source": [
    "from dataset import ImagePairedCaptionDataset"
   ]
  },
  {
   "cell_type": "code",
   "execution_count": 2,
   "metadata": {},
   "outputs": [],
   "source": [
    "import json\n",
    "\n",
    "with open('./data/coco/word_dict.json', 'r') as f:\n",
    "    word_dict = json.load(f)"
   ]
  },
  {
   "cell_type": "code",
   "execution_count": 3,
   "metadata": {},
   "outputs": [],
   "source": [
    "from train import data_transforms\n",
    "\n",
    "train_dataset = ImagePairedCaptionDataset(transform=data_transforms, images_dir='./data/final/', annotations_dir='./data/annotations/', word_dict=word_dict, split_type='train')\n",
    "val_dataset = ImagePairedCaptionDataset(transform=data_transforms, images_dir='./data/final/', annotations_dir='./data/annotations/', word_dict=word_dict, split_type='val')"
   ]
  },
  {
   "cell_type": "code",
   "execution_count": 4,
   "metadata": {},
   "outputs": [
    {
     "name": "stdout",
     "output_type": "stream",
     "text": [
      "58500\n",
      "14100\n"
     ]
    }
   ],
   "source": [
    "print(len(train_dataset))\n",
    "print(len(val_dataset))"
   ]
  },
  {
   "cell_type": "code",
   "execution_count": 5,
   "metadata": {},
   "outputs": [],
   "source": [
    "from torch.utils.data import DataLoader\n",
    "\n",
    "train_loader = DataLoader(train_dataset, shuffle=True, batch_size=1, collate_fn=train_dataset.collate_fn)\n",
    "val_loader= DataLoader(val_dataset, shuffle=False, batch_size=1, collate_fn=val_dataset.collate_fn)"
   ]
  },
  {
   "cell_type": "code",
   "execution_count": 9,
   "metadata": {},
   "outputs": [
    {
     "name": "stdout",
     "output_type": "stream",
     "text": [
      "torch.Size([1, 3, 224, 224]) torch.Size([1, 15])\n",
      "torch.Size([1, 3, 224, 224]) torch.Size([1, 15])\n",
      "torch.Size([1, 15])\n",
      "torch.Size([1, 15])\n"
     ]
    }
   ],
   "source": [
    "for (img1, cap1), (img2, cap2), club_mask, nce_mask in train_loader:\n",
    "    print(img1.size(), cap1.size())\n",
    "    print(img2.size(), cap2.size())\n",
    "    print(club_mask.size())\n",
    "    print(nce_mask.size())\n",
    "    break"
   ]
  },
  {
   "cell_type": "code",
   "execution_count": 10,
   "metadata": {},
   "outputs": [
    {
     "name": "stdout",
     "output_type": "stream",
     "text": [
      "torch.Size([1, 3, 224, 224]) torch.Size([1, 16]) torch.Size([1, 5, 16])\n",
      "torch.Size([1, 3, 224, 224]) torch.Size([1, 16]) torch.Size([1, 4, 16])\n",
      "torch.Size([1, 16])\n",
      "torch.Size([1, 16])\n"
     ]
    }
   ],
   "source": [
    "for (img1, cap1, all_cap1), (img2, cap2, all_cap2), club_mask, nce_mask in val_loader:\n",
    "    print(img1.size(), cap1.size(), all_cap1.size())\n",
    "    print(img2.size(), cap2.size(), all_cap2.size())\n",
    "    print(club_mask.size())\n",
    "    print(nce_mask.size())\n",
    "    break"
   ]
  },
  {
   "cell_type": "code",
   "execution_count": null,
   "metadata": {},
   "outputs": [],
   "source": []
  }
 ],
 "metadata": {
  "kernelspec": {
   "display_name": "Python 3.8.15 ('gt')",
   "language": "python",
   "name": "python3"
  },
  "language_info": {
   "codemirror_mode": {
    "name": "ipython",
    "version": 3
   },
   "file_extension": ".py",
   "mimetype": "text/x-python",
   "name": "python",
   "nbconvert_exporter": "python",
   "pygments_lexer": "ipython3",
   "version": "3.8.15"
  },
  "orig_nbformat": 4,
  "vscode": {
   "interpreter": {
    "hash": "9ff806d4428c019b2f78fdf0e7dfe3f4d8a5ac94e7ad2327d5c53f29522c3bfe"
   }
  }
 },
 "nbformat": 4,
 "nbformat_minor": 2
}
